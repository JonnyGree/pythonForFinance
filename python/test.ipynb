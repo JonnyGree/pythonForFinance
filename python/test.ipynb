{
 "cells": [
  {
   "cell_type": "code",
   "execution_count": 1,
   "metadata": {},
   "outputs": [
    {
     "name": "stderr",
     "output_type": "stream",
     "text": [
      "[*********************100%%**********************]  1 of 1 completed\n",
      "INFO:root:Successfully retrieved historical data for March.\n",
      "[*********************100%%**********************]  1 of 1 completed\n",
      "INFO:root:Successfully retrieved historical data from March to current date.\n"
     ]
    },
    {
     "name": "stdout",
     "output_type": "stream",
     "text": [
      "execute_values() done\n"
     ]
    }
   ],
   "source": [
    "import logging\n",
    "import pandas as pd\n",
    "from py4f_utils import py4f_utils\n",
    "import matplotlib.pyplot as plt\n",
    "import psycopg2\n",
    "import psycopg2.extras as extras\n",
    "\n",
    "\n",
    "\n",
    "\n",
    "# Define the ETF ticker symbol\n",
    "ticker = 'SPY'\n",
    "\n",
    "# Fetch historical data for the month of March\n",
    "march_start = '2024-03-01'\n",
    "march_end = '2024-03-31'\n",
    "march_data = py4f_utils.getDataFromYf(ticker, start=march_start, end=march_end)\n",
    "\n",
    "if march_data is not None:\n",
    "    logging.info(\"Successfully retrieved historical data for March.\")\n",
    "\n",
    "# Fetch historical data from March to the current date\n",
    "current_date = pd.Timestamp.now().strftime('%Y-%m-%d')\n",
    "march_to_current_data = py4f_utils.getDataFromYf(ticker, start=march_start, end=current_date)\n",
    "\n",
    "if march_to_current_data is not None:\n",
    "    logging.info(\"Successfully retrieved historical data from March to current date.\")\n",
    "\n",
    "\n",
    "# Database connection parameters\n",
    "conn_params = {\n",
    "    'dbname': 'pythonForFinanceDb',\n",
    "    'user': 'postgres',\n",
    "    'password': 'password',\n",
    "    'host': 'localhost',\n",
    "    'port': 5432\n",
    "}\n",
    "\n",
    "# Establish the connection\n",
    "conn = psycopg2.connect(**conn_params)\n",
    "\n",
    "# Define the function for bulk insert\n",
    "def execute_values(conn, df, table, ticker):\n",
    "    \"\"\"\n",
    "    Using psycopg2.extras.execute_values() to insert or update the dataframe\n",
    "    \"\"\"\n",
    "    # Create a list of tuples from the dataframe values\n",
    "    tuples = [tuple([ticker] + list(x)) for x in df.to_numpy()]\n",
    "    # Comma-separated dataframe columns\n",
    "    cols = 'ticker,' + ','.join(list(df.columns))\n",
    "    # SQL query to execute\n",
    "    query  = f\"INSERT INTO {table}({cols}) VALUES %s ON CONFLICT (ticker, date) DO UPDATE SET \"\n",
    "    update_cols = ','.join([f\"{col}=EXCLUDED.{col}\" for col in list(df.columns)[1:]])\n",
    "    query += update_cols\n",
    "    cursor = conn.cursor()\n",
    "    try:\n",
    "        extras.execute_values(cursor, query, tuples)\n",
    "        conn.commit()\n",
    "    except (Exception, psycopg2.DatabaseError) as error:\n",
    "        print(\"Error: %s\" % error)\n",
    "        conn.rollback()\n",
    "        cursor.close()\n",
    "        return 1\n",
    "    print(\"execute_values() done\")\n",
    "    cursor.close()\n",
    "\n",
    "# exit(1)\n",
    "# # Display the first few rows of the data\n",
    "# print(hist.head())\n",
    "# # View summary statistics of the DataFrame\n",
    "# print(hist.describe())\n",
    "\n",
    "# # Plot the closing prices over time using the Date column as x-axis\n",
    "# plt.figure(figsize=(10, 5))\n",
    "# plt.plot(hist['Date'], hist['Close'], label='Closing Price')\n",
    "# plt.title('TSLA Closing Prices')\n",
    "# plt.xlabel('Date')\n",
    "# plt.ylabel('Close Price')\n",
    "# plt.legend()\n",
    "# plt.show()"
   ]
  },
  {
   "cell_type": "code",
   "execution_count": 3,
   "metadata": {},
   "outputs": [
    {
     "name": "stdout",
     "output_type": "stream",
     "text": [
      "Error: duplicate key value violates unique constraint \"stock_data_ticker_date_key\"\n",
      "DETAIL:  Key (ticker, date)=(SPY, 2024-03-01) already exists.\n",
      "\n"
     ]
    }
   ],
   "source": [
    "# data1 = py4f_utils.getDataFromYf(ticker)\n",
    "conn = psycopg2.connect(**conn_params)\n",
    "try:\n",
    "    execute_values(conn, march_to_current_data, 'stock_data', ticker)\n",
    "finally:\n",
    "    # Close the connection\n",
    "    conn.close()"
   ]
  }
 ],
 "metadata": {
  "kernelspec": {
   "display_name": "Python 3",
   "language": "python",
   "name": "python3"
  },
  "language_info": {
   "codemirror_mode": {
    "name": "ipython",
    "version": 3
   },
   "file_extension": ".py",
   "mimetype": "text/x-python",
   "name": "python",
   "nbconvert_exporter": "python",
   "pygments_lexer": "ipython3",
   "version": "3.11.9"
  }
 },
 "nbformat": 4,
 "nbformat_minor": 2
}
