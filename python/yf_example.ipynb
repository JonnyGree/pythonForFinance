{
 "cells": [
  {
   "cell_type": "code",
   "execution_count": null,
   "metadata": {},
   "outputs": [],
   "source": [
    "import yfinance as yf\n",
    "\n",
    "msft = yf.Ticker(\"MSFT\")\n",
    "\n",
    "# get all stock info\n",
    "print(msft.info)\n",
    "\n",
    "# get historical market data\n",
    "print(msft.history(period=\"1mo\"))\n",
    "\n",
    "# show meta information about the history (requires history() to be called first)\n",
    "print(msft.history_metadata)\n",
    "\n",
    "# show actions (dividends, splits, capital gains)\n",
    "print(msft.actions)\n",
    "print(msft.dividends)\n",
    "print(msft.splits)\n",
    "print(msft.capital_gains)  # only for mutual funds & etfs\n",
    "\n",
    "# show share count\n",
    "print(msft.get_shares_full(start=\"2022-01-01\", end=None))\n",
    "\n",
    "# show financials:\n",
    "# - income statement\n",
    "print(msft.income_stmt)\n",
    "print(msft.quarterly_income_stmt)\n",
    "# - balance sheet\n",
    "print(msft.balance_sheet)\n",
    "print(msft.quarterly_balance_sheet)\n",
    "# - cash flow statement\n",
    "print(msft.cashflow)\n",
    "print(msft.quarterly_cashflow)\n",
    "# see `Ticker.get_income_stmt()` for more options\n",
    "\n",
    "# show holders\n",
    "print(msft.major_holders)\n",
    "print(msft.institutional_holders)\n",
    "print(msft.mutualfund_holders)\n",
    "print(msft.insider_transactions)\n",
    "print(msft.insider_purchases)\n",
    "print(msft.insider_roster_holders   )\n",
    "\n",
    "# show recommendations\n",
    "print(msft.recommendations)\n",
    "print(msft.recommendations_summary)\n",
    "print(msft.upgrades_downgrades      )\n",
    "\n",
    "# Show future and historic earnings dates, returns at most next 4 quarters and last 8 quarters by default.\n",
    "# Note: If more are needed use msft.get_earnings_dates(limit=XX) with increased limit argument.\n",
    "print(msft.earnings_dates)\n",
    "\n",
    "# show ISIN code - *experimental*\n",
    "# ISIN = International Securities Identification Number\n",
    "print(msft.isin)\n",
    "\n",
    "# show options expirations\n",
    "print(msft.options)\n",
    "\n",
    "# show news\n",
    "print(msft.news)\n",
    "\n",
    "# get option chain for specific expiration\n",
    "# opt = msft.option_chain('2024-03-01')\n",
    "# data available via: opt.calls, opt.puts"
   ]
  },
  {
   "cell_type": "markdown",
   "metadata": {},
   "source": [
    "Multiple tickers"
   ]
  },
  {
   "cell_type": "code",
   "execution_count": null,
   "metadata": {},
   "outputs": [],
   "source": [
    "\n",
    "import yfinance as yf\n",
    "\n",
    "tickers = yf.Tickers('msft aapl goog')\n",
    "\n",
    "# access each ticker using (example)\n",
    "tickers.tickers['MSFT'].info\n",
    "tickers.tickers['AAPL'].history(period=\"1mo\")\n",
    "tickers.tickers['GOOG'].actions"
   ]
  },
  {
   "cell_type": "markdown",
   "metadata": {},
   "source": [
    "To download price history into one table:"
   ]
  },
  {
   "cell_type": "code",
   "execution_count": null,
   "metadata": {},
   "outputs": [],
   "source": [
    "import yfinance as yf\n",
    "data = yf.download(\"SPY AAPL\", period=\"1mo\")"
   ]
  },
  {
   "cell_type": "markdown",
   "metadata": {},
   "source": [
    "### smarter scraping\n",
    "Install the nospam packages for smarter scraping using pip (see Installation). These packages help cache calls such that Yahoo is not spammed with requests.\n",
    "\n",
    "To use a custom requests session, pass a session= argument to the Ticker constructor. This allows for caching calls to the API as well as a custom way to modify requests via the User-agent header."
   ]
  },
  {
   "cell_type": "code",
   "execution_count": null,
   "metadata": {},
   "outputs": [],
   "source": [
    "import requests_cache\n",
    "session = requests_cache.CachedSession('yfinance.cache')\n",
    "session.headers['User-agent'] = 'my-program/1.0'\n",
    "ticker = yf.Ticker('msft', session=session)\n",
    "# The scraped response will be stored in the cache\n",
    "ticker.actions"
   ]
  },
  {
   "cell_type": "code",
   "execution_count": null,
   "metadata": {},
   "outputs": [],
   "source": [
    "from requests import Session\n",
    "from requests_cache import CacheMixin, SQLiteCache\n",
    "from requests_ratelimiter import LimiterMixin, MemoryQueueBucket\n",
    "from pyrate_limiter import Duration, RequestRate, Limiter\n",
    "class CachedLimiterSession(CacheMixin, LimiterMixin, Session):\n",
    "    pass\n",
    "\n",
    "session = CachedLimiterSession(\n",
    "    limiter=Limiter(RequestRate(2, Duration.SECOND*5)),  # max 2 requests per 5 seconds\n",
    "    bucket_class=MemoryQueueBucket,\n",
    "    backend=SQLiteCache(\"yfinance.cache\"),\n",
    ")"
   ]
  },
  {
   "cell_type": "code",
   "execution_count": null,
   "metadata": {},
   "outputs": [],
   "source": [
    "import requests\n",
    "import csv\n",
    "import pandas as pd\n",
    "from modules.db_sqlLite_utils import db_utils\n",
    "\n",
    "api_key = 'WSCL1ZZL8PCWUGV9'\n",
    "CSV_URL  = f\"https://www.alphavantage.co/query?function=LISTING_STATUS&apikey={api_key}\"\n",
    "\n",
    "with requests.Session() as s:\n",
    "    download = s.get(CSV_URL)\n",
    "    decoded_content = download.content.decode('utf-8')\n",
    "    cr = csv.reader(decoded_content.splitlines(), delimiter=',')\n",
    "    my_list = list(cr)\n",
    "\n",
    "# Assuming the first row contains column headers\n",
    "column_headers = my_list[0]\n",
    "\n",
    "# Creating a DataFrame excluding the header row\n",
    "df = pd.DataFrame(my_list[1:], columns=column_headers)\n",
    "\n",
    "# Displaying the DataFrame\n",
    "print(df)\n",
    "db_utils.create_db()\n",
    "db_utils.insert_listing_status(df)"
   ]
  },
  {
   "cell_type": "code",
   "execution_count": null,
   "metadata": {},
   "outputs": [],
   "source": [
    "import requests\n",
    "\n",
    "def get_all_tickers():\n",
    "    url = \"https://finance.yahoo.com/screener/predefined/world_etfs\"\n",
    "    response = requests.get(url)\n",
    "    if response.status_code == 200:\n",
    "        data = response.json()\n",
    "        tickers = [item['symbol'] for item in data['finance']['result'][0]['quotes']]\n",
    "        return tickers\n",
    "    else:\n",
    "        print(\"Failed to fetch data from Yahoo Finance API\")\n",
    "        return []\n",
    "\n",
    "all_tickers = get_all_tickers()\n",
    "print(all_tickers)"
   ]
  },
  {
   "cell_type": "code",
   "execution_count": null,
   "metadata": {},
   "outputs": [],
   "source": [
    "exchange = 'NYSE'  # Replace 'NYSE' with any other exchange\n",
    "exchange_tickers = db_utils.get_tickers_by_exchange(exchange)\n",
    "print(len(exchange_tickers))"
   ]
  }
 ],
 "metadata": {
  "kernelspec": {
   "display_name": "Python 3",
   "language": "python",
   "name": "python3"
  },
  "language_info": {
   "codemirror_mode": {
    "name": "ipython",
    "version": 3
   },
   "file_extension": ".py",
   "mimetype": "text/x-python",
   "name": "python",
   "nbconvert_exporter": "python",
   "pygments_lexer": "ipython3",
   "version": "3.11.9"
  }
 },
 "nbformat": 4,
 "nbformat_minor": 2
}
