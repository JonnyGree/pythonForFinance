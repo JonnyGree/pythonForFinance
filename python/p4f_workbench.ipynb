{
 "cells": [
  {
   "cell_type": "code",
   "execution_count": null,
   "metadata": {},
   "outputs": [],
   "source": [
    "import sys\n",
    "import subprocess\n",
    "import os\n",
    "# Get the current working directory\n",
    "current_folder = os.getcwd()\n",
    "modules_path = os.path.join(current_folder, 'modules')\n",
    "sys.path.append(current_folder)\n",
    "sys.path.append(modules_path)\n",
    "\n",
    "restart_command = [sys.executable] + sys.argv\n",
    "\n",
    "# Call subprocess to restart the Python interpreter\n",
    "subprocess.call(restart_command)\n",
    "\n",
    "import logging\n",
    "import pandas as pd\n",
    "\n",
    "from modules.api_yf import api_yf\n",
    "from modules.db_sqlLite_utils import db_utils\n",
    "from modules.plotter import pl\n",
    "from modules.processdata import processdata\n",
    "\n",
    "# Define the ETF ticker symbol\n",
    "ticker = 'META'\n",
    "\n",
    "# # Get a list of loaded modules\n",
    "# loaded_modules = sys.modules.keys()\n",
    "# # Print the list of loaded modules\n",
    "# print(loaded_modules)\n"
   ]
  },
  {
   "cell_type": "code",
   "execution_count": null,
   "metadata": {},
   "outputs": [],
   "source": [
    "data = db_utils.get_data_from_db(ticker)\n",
    "\n",
    "data2 = processdata.add_daily_return_to_df(data)\n",
    "\n",
    "start_date = processdata.formatDateDt(2021, 1, 1)\n",
    "end_date = processdata.formatDateDt(2023, 1, 1)\n",
    "\n",
    "# Calculate the return using the static method\n",
    "total_return = processdata.get_return_defined_time(data2, start_date, end_date)\n",
    "\n",
    "\n",
    "start_date = processdata.formatDateDt(2021, 1, 1)\n",
    "end_date = processdata.formatDateDt(2024, 1, 1)\n",
    "\n",
    "dStart, dEnd = processdata.get_valid_dates(data2, start_date, end_date)\n",
    "roi = processdata.get_roi_defined_time(data2, dStart, dEnd)\n",
    "mean = processdata.get_mean_between_dates(data2, dStart, dEnd)\n",
    "std = processdata.get_sd_between_dates(data2, dStart, dEnd)\n",
    "cov = processdata.get_cov_between_dates(data2, dStart, dEnd)\n",
    "\n",
    "faang_list = [\"META\", \"AMZN\", \"AAPL\", \"NFLX\", \"GOOG\"]\n",
    "mult_df = processdata.merge_df_by_column_name('daily_return',  '2020-1-1', '2020-12-31', *faang_list)\n",
    "\n",
    "# Generate a Correlation Matrix\n",
    "mult_df.corr()\n",
    "\n",
    "# # We can look at the correlation between Netflix and the others\n",
    "# mult_df.corr()['NFLX']\n",
    "\n",
    "# # # We can plot this in a bar chart\n",
    "mult_df.corr()['NFLX'].plot(kind='bar')\n",
    "\n",
    "mult_df['NFLX'].var()\n",
    "\n",
    "# Annualize by getting the number of samples and multiply\n",
    "days = len(mult_df.index) # 253\n",
    "\n",
    "nflx_a_var = mult_df['NFLX'].var() * 253\n",
    "nflx_a_var\n",
    "\n",
    "mult_df.cov() * 253"
   ]
  },
  {
   "cell_type": "code",
   "execution_count": null,
   "metadata": {},
   "outputs": [],
   "source": [
    "# get data from yf\n",
    "ticker = 'GOOG'\n",
    "\n",
    "data = api_yf.getFullDataFromYf(ticker)\n",
    "# insert data into sqlLite db\n",
    "db_utils.execute_values(data, 'stock_data', ticker)\n",
    "\n",
    "# retrive data from db\n",
    "data = db_utils.get_data_from_db(ticker)\n",
    "print(data.head())\n",
    "\n",
    "# # Plot the closing prices over time using the Date column as x-axis\n",
    "pl.plot_closing_prices(data, ticker)"
   ]
  },
  {
   "cell_type": "code",
   "execution_count": null,
   "metadata": {},
   "outputs": [],
   "source": [
    "import yfinance as yf\n",
    "\n",
    "# Get the ticker object for NASDAQ Composite Index\n",
    "nasdaq_ticker = yf.Ticker(\"^IXIC\")\n",
    "\n",
    "# Get the list of tickers\n",
    "nasdaq_symbols_list = nasdaq_ticker.tickers['^IXIC'].history().index.get_level_values(1).unique().tolist()\n",
    "\n",
    "# Print the list of tickers\n",
    "print(nasdaq_symbols_list)\n"
   ]
  },
  {
   "cell_type": "code",
   "execution_count": null,
   "metadata": {},
   "outputs": [],
   "source": [
    "db_utils.create_db()\n",
    "\n",
    "sec_df = df = pd.read_excel('c:\\\\Users\\\\somma\\\\Documents\\\\GIT\\\\pythonForFinance\\\\\\\\database\\\\wilshire_5000_stocks.xlsx')\n",
    "db_utils.insert_wilshire_stocks(sec_df)\n",
    "\n",
    "sector = db_utils.get_wilshire_distinct_sectors()\n",
    "tickers = db_utils.get_wilshire_ticker()\n",
    "stockTicker = db_utils.get_ticker_from_stock()\n",
    "print(len(tickers),len(stockTicker))\n",
    "unique_elements = [x for x in tickers if x not in stockTicker]\n",
    "print(len(tickers)-len(stockTicker),len(unique_elements))\n",
    "stocks_by_sector = db_utils.get_wilshire_ticker_by_sector(\"Industrials\")"
   ]
  },
  {
   "cell_type": "code",
   "execution_count": null,
   "metadata": {},
   "outputs": [],
   "source": [
    "\n",
    "for ticker in unique_elements:\n",
    "    df = api_yf.getFullDataFromYf(ticker)\n",
    "    # insert data into sqlLite db\n",
    "    if df is not None and not df.empty:\n",
    "        db_utils.execute_values(df, 'stock_data', ticker)"
   ]
  },
  {
   "cell_type": "code",
   "execution_count": null,
   "metadata": {},
   "outputs": [],
   "source": [
    "# get data from yf\n",
    "ticker = 'GOOG'\n",
    "\n",
    "data = api_yf.getFullDataFromYf(ticker)\n",
    "# insert data into sqlLite db\n",
    "db_utils.execute_values(data, 'stock_data', ticker)"
   ]
  }
 ],
 "metadata": {
  "kernelspec": {
   "display_name": "Python 3",
   "language": "python",
   "name": "python3"
  },
  "language_info": {
   "codemirror_mode": {
    "name": "ipython",
    "version": 3
   },
   "file_extension": ".py",
   "mimetype": "text/x-python",
   "name": "python",
   "nbconvert_exporter": "python",
   "pygments_lexer": "ipython3",
   "version": "3.11.9"
  }
 },
 "nbformat": 4,
 "nbformat_minor": 2
}
