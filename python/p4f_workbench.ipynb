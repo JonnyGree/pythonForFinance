{
 "cells": [
  {
   "cell_type": "code",
   "execution_count": null,
   "metadata": {},
   "outputs": [],
   "source": [
    "# ticker\n",
    "from modules.api_yf import api_yf\n",
    "from modules.db_sqlLite_utils import db_utils\n",
    "from modules.plotter import pl\n",
    "import logging\n",
    "import pandas as pd\n",
    "\n",
    "# Define the ETF ticker symbol\n",
    "ticker = 'VWCE.MI'\n"
   ]
  },
  {
   "cell_type": "code",
   "execution_count": null,
   "metadata": {},
   "outputs": [],
   "source": [
    "# get data from yf\n",
    "data = api_yf.getFullDataFromYf(ticker)\n",
    "# insert data into sqlLite db\n",
    "db_utils.execute_values(data, 'stock_data', ticker)\n",
    "\n",
    "# retrive data from db\n",
    "data = db_utils.get_data_from_db(ticker)\n",
    "print(data.head())\n",
    "\n",
    "# # Plot the closing prices over time using the Date column as x-axis\n",
    "pl.plot_closing_prices(data, ticker)"
   ]
  }
 ],
 "metadata": {
  "kernelspec": {
   "display_name": "Python 3",
   "language": "python",
   "name": "python3"
  },
  "language_info": {
   "codemirror_mode": {
    "name": "ipython",
    "version": 3
   },
   "file_extension": ".py",
   "mimetype": "text/x-python",
   "name": "python",
   "nbconvert_exporter": "python",
   "pygments_lexer": "ipython3",
   "version": "3.11.9"
  }
 },
 "nbformat": 4,
 "nbformat_minor": 2
}
